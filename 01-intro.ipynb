{
 "cells": [
  {
   "cell_type": "markdown",
   "metadata": {},
   "source": [
    "![DSL_logo](dsl_logo.png)\n",
    "\n",
    "\n",
    "# Introduction to Text Analysis with Python\n",
    "\n",
    "Welcome to the Digital Scholarship Lab introduction to Text Analysis with Python class. In this class we'll learn the basics of text analysis:\n",
    "\n",
    "- parsing text\n",
    "- analyzing the text\n",
    "\n",
    "We'll use our own home made analysis tool first, then we'll use a python library called `gensim` to use some built in analysis tools.\n",
    "\n",
    "This workshop assumes you've completed our self-paced Python prep [workshop](https://brockdsl.github.io/Intro_to_Python_Workshop/)\n",
    "\n",
    "We'll use the Zoom's chat feature to interact.\n",
    "\n",
    "Be sure to enable line numbers by looking for the 'gear' icon and checking the box in the 'Editor' panel."
   ]
  },
  {
   "cell_type": "markdown",
   "metadata": {},
   "source": [
    "## EG. Scrabble!\n",
    "\n",
    "<img src=\"https://upload.wikimedia.org/wikipedia/commons/5/5d/Scrabble_game_in_progress.jpg\" width =500x>\n",
    "\n",
    "Scrabble is a popular game where players try to score points by spelling words and placing them on the game board. We'll use Scrabble scoring our our first attempt at text analysis. This will demonstart the basics of how Text Analysis works.\n",
    "\n",
    "The function below gives you the Scrabble scored of any word you give it."
   ]
  },
  {
   "cell_type": "code",
   "execution_count": 1,
   "metadata": {},
   "outputs": [],
   "source": [
    "# This function will return the Scrabble score of a word\n",
    "\n",
    "def scrabble_score(word):\n",
    "    \n",
    "    #Dictionary of our scrabble scores\n",
    "    score_lookup = {\n",
    "        \"a\": 1,\n",
    "        \"b\": 3,\n",
    "        \"c\": 3,\n",
    "        \"d\": 2,\n",
    "        \"e\": 1,\n",
    "        \"f\": 4,\n",
    "        \"g\": 2,\n",
    "        \"h\": 4,\n",
    "        \"i\": 1,\n",
    "        \"j\": 8,\n",
    "        \"k\": 5,\n",
    "        \"l\": 1,\n",
    "        \"m\": 3,\n",
    "        \"n\": 1,\n",
    "        \"o\": 1,\n",
    "        \"p\": 3,\n",
    "        \"q\": 10,\n",
    "        \"r\": 1,\n",
    "        \"s\": 1,\n",
    "        \"t\": 1,\n",
    "        \"u\": 1,\n",
    "        \"v\": 4,\n",
    "        \"w\": 4,\n",
    "        \"x\": 8,\n",
    "        \"y\": 4,\n",
    "        \"z\": 10,\n",
    "        \"\\n\": 0, #just in case a new line character jumps in here\n",
    "        \" \":0 #normally single words don't have spaces but we'll put this here just in case\n",
    "        \n",
    "    }\n",
    "    \n",
    "    total_score = 0\n",
    "    \n",
    "    #We look up each letter in the scoring dictionary and add it to a running total\n",
    "    #to make our dictionary shorter we are just using lowercase letters so we need to\n",
    "    #change all of our input to lowercase with .lower()\n",
    "    for letter in word:\n",
    "        total_score = total_score + score_lookup[letter.lower()]\n",
    "    \n",
    "    return total_score\n"
   ]
  },
  {
   "cell_type": "markdown",
   "metadata": {},
   "source": [
    "Text Analysis is a process comprised of three basic steps:\n",
    "1. Identifying the text (or corpus) that you'd like to an analyze\n",
    "1. Apply the analysis to your prepared text\n",
    "1. Analyze the results\n",
    "\n",
    "In our very basic example of scrabble we just are interested in finding the points we would get for spelling a specific word. \n",
    "\n",
    "In a more complext example with a larger corpus you can do any of the following types of analysis:\n",
    "- determine the sentiment (positive / negative nature) of the text\n",
    "- quantify how complex a piece of writing is based on the vocabulary it uses\n",
    "- determine what topics are in your corpus, and match your items to these topics (this is what we are going to do)\n",
    "\n",
    "Of course, there are many other different outcomes you can get from peforming text analysis."
   ]
  },
  {
   "cell_type": "markdown",
   "metadata": {},
   "source": [
    "Try questions Q1 - Q2 and type \"All Done\" in the chat box when you are done."
   ]
  },
  {
   "cell_type": "markdown",
   "metadata": {},
   "source": [
    "## Q1 Score your name\n",
    "\n",
    "How many Points do you get for your name? Complete the expression below to find out the scrabble score of your name"
   ]
  },
  {
   "cell_type": "code",
   "execution_count": 2,
   "metadata": {},
   "outputs": [
    {
     "name": "stdout",
     "output_type": "stream",
     "text": [
      "Score for my name is: 5\n"
     ]
    }
   ],
   "source": [
    "name = \"Tim\"\n",
    "print(\"Score for my name is:\", scrabble_score(name))\n"
   ]
  },
  {
   "cell_type": "markdown",
   "metadata": {},
   "source": [
    "## Q2\n",
    "\n",
    "Score the name of your pet or favorite character from a story. Does your name or the name of your pet score higher in Scrabble?"
   ]
  },
  {
   "cell_type": "code",
   "execution_count": 3,
   "metadata": {},
   "outputs": [
    {
     "name": "stdout",
     "output_type": "stream",
     "text": [
      "Score for my pet's name is: 9\n",
      "My pet's name scores more points!\n"
     ]
    }
   ],
   "source": [
    "pet_name = \"Domino\"\n",
    "print(\"Score for my pet's name is:\",scrabble_score(pet_name))\n",
    "\n",
    "#Compare to see which gets more points!\n",
    "if scrabble_score(pet_name) > scrabble_score(name):\n",
    "    print(\"My pet's name scores more points!\")\n",
    "else:\n",
    "    print(\"My name scores more (or the same) amount of points as my pets name\")\n",
    "\n"
   ]
  },
  {
   "cell_type": "markdown",
   "metadata": {},
   "source": [
    "# Beyond the basics\n",
    "\n",
    "We just completed a very basic text analysis where we analyzed two different bits of text to see which one scores higher in Scrabble. Let's expand this idea to a more complex example using the [gensim](https://radimrehurek.com/gensim/) and [TextBlob](https://textblob.readthedocs.io/en/dev/) Python Libraries."
   ]
  },
  {
   "cell_type": "code",
   "execution_count": 8,
   "metadata": {},
   "outputs": [
    {
     "name": "stdout",
     "output_type": "stream",
     "text": [
      "Requirement already satisfied: textblob in /Users/tim/opt/anaconda3/lib/python3.7/site-packages (0.15.3)\n",
      "Requirement already satisfied: nltk>=3.1 in /Users/tim/opt/anaconda3/lib/python3.7/site-packages (from textblob) (3.4.5)\n",
      "Requirement already satisfied: six in /Users/tim/opt/anaconda3/lib/python3.7/site-packages (from nltk>=3.1->textblob) (1.12.0)\n",
      "Note: you may need to restart the kernel to use updated packages.\n"
     ]
    }
   ],
   "source": [
    "#Install textblob using magic commands\n",
    "#Only needed once\n",
    "%pip install textblob\n",
    "\n",
    "from textblob import TextBlob\n",
    "\n",
    "#import gensim\n",
    "#from gensim import corpora, models, similarities, downloader\n",
    "\n",
    "import pandas as pd\n",
    "import matplotlib.pyplot as plt\n",
    "\n"
   ]
  },
  {
   "cell_type": "markdown",
   "metadata": {},
   "source": [
    "Corpus is text from [Winnie Beam diary](https://dr.library.brocku.ca/) first few months of calendar entries\n"
   ]
  },
  {
   "cell_type": "code",
   "execution_count": 9,
   "metadata": {},
   "outputs": [],
   "source": [
    "winnie_corpus = pd.read_csv('winnie_corpus.txt', header = None, delimiter=\"\\t\")\n",
    "winnie_corpus.columns = [\"page\",\"date\",\"entry\"]\n",
    "winnie_corpus['date'] = pd.to_datetime(winnie_corpus['date'])"
   ]
  },
  {
   "cell_type": "code",
   "execution_count": 10,
   "metadata": {},
   "outputs": [
    {
     "data": {
      "text/html": [
       "<div>\n",
       "<style scoped>\n",
       "    .dataframe tbody tr th:only-of-type {\n",
       "        vertical-align: middle;\n",
       "    }\n",
       "\n",
       "    .dataframe tbody tr th {\n",
       "        vertical-align: top;\n",
       "    }\n",
       "\n",
       "    .dataframe thead th {\n",
       "        text-align: right;\n",
       "    }\n",
       "</style>\n",
       "<table border=\"1\" class=\"dataframe\">\n",
       "  <thead>\n",
       "    <tr style=\"text-align: right;\">\n",
       "      <th></th>\n",
       "      <th>page</th>\n",
       "      <th>date</th>\n",
       "      <th>entry</th>\n",
       "      <th>polarity</th>\n",
       "      <th>subjectvitity</th>\n",
       "    </tr>\n",
       "  </thead>\n",
       "  <tbody>\n",
       "    <tr>\n",
       "      <td>0</td>\n",
       "      <td>7</td>\n",
       "      <td>1900-01-01</td>\n",
       "      <td>New Year. First day of 1900 Charlie Merritt di...</td>\n",
       "      <td>0.205322</td>\n",
       "      <td>0.377286</td>\n",
       "    </tr>\n",
       "    <tr>\n",
       "      <td>1</td>\n",
       "      <td>7</td>\n",
       "      <td>1900-01-02</td>\n",
       "      <td>Went uptown in afternoon. Was up to Eckardt's ...</td>\n",
       "      <td>-0.020000</td>\n",
       "      <td>0.120000</td>\n",
       "    </tr>\n",
       "    <tr>\n",
       "      <td>2</td>\n",
       "      <td>8</td>\n",
       "      <td>1900-01-03</td>\n",
       "      <td>Mrs Trusty was here washing School started to-...</td>\n",
       "      <td>0.136364</td>\n",
       "      <td>0.454545</td>\n",
       "    </tr>\n",
       "    <tr>\n",
       "      <td>3</td>\n",
       "      <td>8</td>\n",
       "      <td>1900-01-04</td>\n",
       "      <td>Went over to Carman's to have Ella go with me ...</td>\n",
       "      <td>0.054583</td>\n",
       "      <td>0.384167</td>\n",
       "    </tr>\n",
       "    <tr>\n",
       "      <td>4</td>\n",
       "      <td>9</td>\n",
       "      <td>1900-01-05</td>\n",
       "      <td>Sweep day. I read \"At the Camerons\" in the \"Ha...</td>\n",
       "      <td>0.030357</td>\n",
       "      <td>0.345714</td>\n",
       "    </tr>\n",
       "    <tr>\n",
       "      <td>...</td>\n",
       "      <td>...</td>\n",
       "      <td>...</td>\n",
       "      <td>...</td>\n",
       "      <td>...</td>\n",
       "      <td>...</td>\n",
       "    </tr>\n",
       "    <tr>\n",
       "      <td>85</td>\n",
       "      <td>49</td>\n",
       "      <td>1900-03-27</td>\n",
       "      <td>Mamma was out collecting in afternoon at Mrs C...</td>\n",
       "      <td>-0.714286</td>\n",
       "      <td>0.857143</td>\n",
       "    </tr>\n",
       "    <tr>\n",
       "      <td>86</td>\n",
       "      <td>50</td>\n",
       "      <td>1900-03-28</td>\n",
       "      <td>They have Mr Beatty in Welland jail Sid was he...</td>\n",
       "      <td>0.133333</td>\n",
       "      <td>0.166667</td>\n",
       "    </tr>\n",
       "    <tr>\n",
       "      <td>87</td>\n",
       "      <td>50</td>\n",
       "      <td>1900-03-29</td>\n",
       "      <td>I sent 4 cents for some sample pictures from B...</td>\n",
       "      <td>0.000000</td>\n",
       "      <td>0.066667</td>\n",
       "    </tr>\n",
       "    <tr>\n",
       "      <td>88</td>\n",
       "      <td>51</td>\n",
       "      <td>1900-03-30</td>\n",
       "      <td>Carrie is seriously ill in Santa Barbara. Mr G...</td>\n",
       "      <td>-0.500000</td>\n",
       "      <td>1.000000</td>\n",
       "    </tr>\n",
       "    <tr>\n",
       "      <td>89</td>\n",
       "      <td>51</td>\n",
       "      <td>1900-03-31</td>\n",
       "      <td>Took my lesson. Took the 17th Etude ad Valse S...</td>\n",
       "      <td>0.212121</td>\n",
       "      <td>0.340404</td>\n",
       "    </tr>\n",
       "  </tbody>\n",
       "</table>\n",
       "<p>90 rows × 5 columns</p>\n",
       "</div>"
      ],
      "text/plain": [
       "    page       date                                              entry  \\\n",
       "0      7 1900-01-01  New Year. First day of 1900 Charlie Merritt di...   \n",
       "1      7 1900-01-02  Went uptown in afternoon. Was up to Eckardt's ...   \n",
       "2      8 1900-01-03  Mrs Trusty was here washing School started to-...   \n",
       "3      8 1900-01-04  Went over to Carman's to have Ella go with me ...   \n",
       "4      9 1900-01-05  Sweep day. I read \"At the Camerons\" in the \"Ha...   \n",
       "..   ...        ...                                                ...   \n",
       "85    49 1900-03-27  Mamma was out collecting in afternoon at Mrs C...   \n",
       "86    50 1900-03-28  They have Mr Beatty in Welland jail Sid was he...   \n",
       "87    50 1900-03-29  I sent 4 cents for some sample pictures from B...   \n",
       "88    51 1900-03-30  Carrie is seriously ill in Santa Barbara. Mr G...   \n",
       "89    51 1900-03-31  Took my lesson. Took the 17th Etude ad Valse S...   \n",
       "\n",
       "    polarity  subjectvitity  \n",
       "0   0.205322       0.377286  \n",
       "1  -0.020000       0.120000  \n",
       "2   0.136364       0.454545  \n",
       "3   0.054583       0.384167  \n",
       "4   0.030357       0.345714  \n",
       "..       ...            ...  \n",
       "85 -0.714286       0.857143  \n",
       "86  0.133333       0.166667  \n",
       "87  0.000000       0.066667  \n",
       "88 -0.500000       1.000000  \n",
       "89  0.212121       0.340404  \n",
       "\n",
       "[90 rows x 5 columns]"
      ]
     },
     "execution_count": 10,
     "metadata": {},
     "output_type": "execute_result"
    }
   ],
   "source": [
    "#Apply sentiment analysis from TextBlob\n",
    "\n",
    "polarity = []\n",
    "subjectivity = []\n",
    "\n",
    "\n",
    "for day in winnie_corpus.entry:\n",
    "    score = TextBlob(day)\n",
    "    polarity.append(score.sentiment.polarity)\n",
    "    subjectivity.append(score.sentiment.subjectivity)\n",
    "    \n",
    "winnie_corpus['polarity'] = polarity\n",
    "winnie_corpus['subjectvitity'] = subjectivity\n",
    "\n",
    "\n",
    "winnie_corpus"
   ]
  },
  {
   "cell_type": "code",
   "execution_count": 25,
   "metadata": {},
   "outputs": [
    {
     "data": {
      "image/png": "[encoded data removed]",
      "text/plain": [
       "<Figure size 432x288 with 1 Axes>"
      ]
     },
     "metadata": {
      "needs_background": "light"
     },
     "output_type": "display_data"
    }
   ],
   "source": [
    "\n",
    "plt.plot(winnie_corpus[\"date\"],winnie_corpus[\"polarity\"])\n",
    "plt.xticks(rotation='45')\n",
    "plt.title(\"Sentiment of Winnie's Diary Entries\")\n",
    "plt.show()"
   ]
  },
  {
   "cell_type": "code",
   "execution_count": 7,
   "metadata": {},
   "outputs": [],
   "source": [
    "#January Entries\n",
    "#jan_corpus = winnie_corpus[(winnie_corpus['date'] >= '1900-01-01') & (winnie_corpus['date'] <= '1900-01-31')]\n",
    "\n",
    "#February Entries\n",
    "#feb_corpus = winnie_corpus[(winnie_corpus['date'] >= '1900-02-01') & (winnie_corpus['date'] <= '1900-02-28')]\n",
    "\n",
    "#March Entries\n",
    "#mar_corpus = winnie_corpus[(winnie_corpus['date'] >= '1900-03-01') & (winnie_corpus['date'] <= '1900-03-31')]"
   ]
  }
 ],
 "metadata": {
  "kernelspec": {
   "display_name": "Python 3",
   "language": "python",
   "name": "python3"
  },
  "language_info": {
   "codemirror_mode": {
    "name": "ipython",
    "version": 3
   },
   "file_extension": ".py",
   "mimetype": "text/x-python",
   "name": "python",
   "nbconvert_exporter": "python",
   "pygments_lexer": "ipython3",
   "version": "3.7.4"
  }
 },
 "nbformat": 4,
 "nbformat_minor": 2
}
